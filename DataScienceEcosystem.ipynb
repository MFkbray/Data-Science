{
 "cells": [
  {
   "cell_type": "markdown",
   "id": "ff93702d-3112-424f-afd9-993f1b049580",
   "metadata": {},
   "source": [
    "# Data Science Tools and Ecosystem"
   ]
  },
  {
   "cell_type": "markdown",
   "id": "6be21f58-395b-4bec-aa6b-118aaf989028",
   "metadata": {},
   "source": [
    "In this notebook, Data Science Tools and Ecosystem are summarized."
   ]
  },
  {
   "cell_type": "markdown",
   "id": "e8f14e6e-7e47-4b05-9867-4493753764b4",
   "metadata": {},
   "source": [
    "**Objectives**\n",
    "- Popular languages for Data Scientists\n",
    "- Commonly used libraries for Data Scientists\n",
    "- Data Science Tools\n",
    "- Examples of arithmetic expressions\n",
    "- Practise arithmetic\n",
    "\n"
   ]
  },
  {
   "cell_type": "markdown",
   "id": "87965d56-2c0f-4e1a-8488-a0f5b08956ed",
   "metadata": {},
   "source": [
    "Some of the popular languages that Data Scientists use are:\n",
    "1. Python\n",
    "2. R\n",
    "3. C++\n",
    "4. C\n"
   ]
  },
  {
   "cell_type": "markdown",
   "id": "cc18cc56-5608-4be7-b613-1920d46bce8a",
   "metadata": {},
   "source": [
    "Some of the commonly used libraries used by Data Scientists include:\n",
    "1. NumPy\n",
    "2. Pandas\n",
    "3. SciKit-Learn\n",
    "4. TensorFlow\n",
    "5. Matplotlib\n"
   ]
  },
  {
   "cell_type": "markdown",
   "id": "63b0a2c8-944c-4858-82b3-a40722297233",
   "metadata": {},
   "source": [
    "|Data Science Tools|\n",
    "|--------|\n",
    "|Anaconda|\n",
    "|Pycharm|\n",
    "|Keras|\n"
   ]
  },
  {
   "cell_type": "markdown",
   "id": "139a29f7-396d-4f95-a4e7-0303ed9c00e6",
   "metadata": {},
   "source": [
    "### Below are a few examples of evaluating arithmetic expressions in Python.\n",
    "- (10 + 3) * 5\n",
    "- (13.2/6.1)**2\n",
    "- (7 - 2)/(5 * 4)"
   ]
  },
  {
   "cell_type": "code",
   "execution_count": 4,
   "id": "655f72ce-37f1-41a0-bb13-ba540017a47d",
   "metadata": {
    "tags": []
   },
   "outputs": [
    {
     "data": {
      "text/plain": [
       "17"
      ]
     },
     "execution_count": 4,
     "metadata": {},
     "output_type": "execute_result"
    }
   ],
   "source": [
    "#This a simple arithmetic expression to mutiply then add integers\n",
    "(3 * 4) + 5"
   ]
  },
  {
   "cell_type": "code",
   "execution_count": 12,
   "id": "6ac73fda-2e59-4a52-936d-3c108a285ac0",
   "metadata": {
    "tags": []
   },
   "outputs": [
    {
     "name": "stdout",
     "output_type": "stream",
     "text": [
      "3.3333333333333335\n"
     ]
    }
   ],
   "source": [
    "#This will convert 200 minutes to hours by diving by 60\n",
    "hours = 200/60 \n",
    "print(hours)"
   ]
  },
  {
   "cell_type": "markdown",
   "id": "e15f97a6-6554-41e6-8abf-c19f4848e5bb",
   "metadata": {},
   "source": [
    "## Author\n",
    "Kerem\n"
   ]
  },
  {
   "cell_type": "code",
   "execution_count": null,
   "id": "db0f52c1-dec2-480b-8c21-570993cae782",
   "metadata": {},
   "outputs": [],
   "source": []
  }
 ],
 "metadata": {
  "kernelspec": {
   "display_name": "Python",
   "language": "python",
   "name": "conda-env-python-py"
  },
  "language_info": {
   "codemirror_mode": {
    "name": "ipython",
    "version": 3
   },
   "file_extension": ".py",
   "mimetype": "text/x-python",
   "name": "python",
   "nbconvert_exporter": "python",
   "pygments_lexer": "ipython3",
   "version": "3.7.12"
  }
 },
 "nbformat": 4,
 "nbformat_minor": 5
}
